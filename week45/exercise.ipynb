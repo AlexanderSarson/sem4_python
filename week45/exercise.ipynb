{
 "metadata": {
  "language_info": {
   "codemirror_mode": {
    "name": "ipython",
    "version": 3
   },
   "file_extension": ".py",
   "mimetype": "text/x-python",
   "name": "python",
   "nbconvert_exporter": "python",
   "pygments_lexer": "ipython3",
   "version": "3.7.6-final"
  },
  "orig_nbformat": 2,
  "kernelspec": {
   "name": "python3",
   "display_name": "Python 3"
  }
 },
 "nbformat": 4,
 "nbformat_minor": 2,
 "cells": [
  {
   "source": [
    "Assignment: https://github.com/Tunoc/sem4python_notebooks/tree/master/Week10/exercise"
   ],
   "cell_type": "markdown",
   "metadata": {}
  },
  {
   "cell_type": "code",
   "execution_count": 21,
   "metadata": {},
   "outputs": [
    {
     "output_type": "stream",
     "name": "stdout",
     "text": [
      "{'Johnathon Compton': 'Advisor', 'Wilma Hudson': 'Assassin', 'Mary Harrington': 'Accountant', 'Thelma Blanchard': 'Advisor', 'Lindsey Mcgee': 'Advisor', 'Harlan Ewing': 'Advisor', 'Cara Giles': 'Enforcer', 'Roger Oliver': 'Advisor', 'Herminia Munoz': 'Assassin', 'Fred Alvarez': 'Assassin', 'Bud Woods': 'Priest', 'Freida Case': 'Recruiter', 'Eldridge Hatfield': 'Accountant', 'Jan Cabrera': 'Assassin', 'Jermaine Pratt': 'Accountant', 'Lanny Huynh': 'Enforcer', 'Ulysses Mccall': 'Enforcer', 'Coleen Weber': 'Advisor', 'Trudy Gaines': 'Assassin', 'Loyd Tapia': 'Assassin', 'George Gordon': 'Assassin', 'Nick Oconnor': 'Recruiter', 'Latoya Gilmore': 'Priest', 'Eldon Pena': 'Enforcer', 'Tania Roberson': 'Assassin', 'Allie Sanchez': 'Priest', 'Weston Chang': 'Assassin', 'Marci Salinas': 'Priest', 'Tasha Allison': 'Recruiter', 'Jerri Carey': 'Priest', 'Virginia Harrison': 'Advisor', 'April Hull': 'Recruiter', 'Lupe Eaton': 'Enforcer', 'Inez Lozano': 'Assassin', 'Forrest Santana': 'Advisor', 'Deloris Frank': 'Accountant', 'Olivia Hendrix': 'Priest', 'Granville Cannon': 'Recruiter', 'Jefferey Weeks': 'Enforcer', 'Noble Buck': 'Assassin', 'Gracie Benitez': 'Accountant', 'Levi Peterson': 'Assassin', 'Reginald Odom': 'Accountant', 'Brain Wiley': 'Assassin', 'Mari Stanton': 'Recruiter', 'Marcella Barrett': 'Accountant', 'Cecile Herrera': 'Assassin', 'Marty Tucker': 'Accountant', 'Sharron Werner': 'Priest', 'Fredric James': 'Enforcer', 'Kerry Myers': 'Advisor', 'Herminia Pineda': 'Assassin', 'Elnora Johnston': 'Recruiter', 'Sonja Maddox': 'Accountant', 'Irwin Schwartz': 'Priest', 'Jame Stark': 'Enforcer', 'Katelyn Maxwell': 'Priest', 'Janine Haas': 'Advisor', 'Heather Morales': 'Assassin', 'Garret Shaffer': 'Priest', 'Jillian Salas': 'Priest', 'Rachel Rosario': 'Enforcer', 'Morgan Anderson': 'Priest', 'Carlos Chapman': 'Accountant', 'Earnestine Dickson': 'Priest', 'Arline Brock': 'Enforcer', 'Roger Neal': 'Enforcer', 'Merle Gonzales': 'Assassin', 'Lindsay Callahan': 'Recruiter', 'Frieda Pham': 'Priest', 'Lorene Reeves': 'Accountant', 'Saul Baldwin': 'Assassin', 'Darryl Graves': 'Accountant', 'Michael Bartlett': 'Recruiter', 'Terence Pitts': 'Accountant', 'Aimee Hammond': 'Priest', 'Basil Flynn': 'Advisor', 'Celia Roman': 'Priest', 'Damien Donovan': 'Enforcer', 'Carter Lam': 'Accountant', 'Lucile Hart': 'Enforcer', 'Sara Stanley': 'Accountant', 'Nick King': 'Assassin', 'Martina Daniel': 'Enforcer', 'Neva Bruce': 'Accountant', 'Long Brooks': 'Recruiter', 'Alexandra Drake': 'Enforcer', 'Erick Page': 'Accountant', 'Lora Dalton': 'Recruiter', 'Eloise Hurley': 'Enforcer', 'Lenny Serrano': 'Recruiter', 'Ken Lynn': 'Priest', 'Camille Pace': 'Enforcer', 'Alyce Ortiz': 'Assassin', 'Carol Potter': 'Assassin', 'Grady Booker': 'Enforcer', 'Jewell Bender': 'Assassin', 'Everette Burgess': 'Priest', 'Marshall Day': 'Enforcer', 'Pasquale Rios': 'Enforcer'}\n"
     ]
    }
   ],
   "source": [
    "import pandas as pd\n",
    "import numpy as np\n",
    "import requests\n",
    "import random\n",
    "\n",
    "url_names = \"https://raw.githubusercontent.com/Micniks/Python-Week10-Group-3-Assignments/main/Random_Names.txt\"\n",
    "\n",
    "response = requests.get(url_names)\n",
    "full_read = ''\n",
    "for line in response:\n",
    "    decoded_line = line.decode(\"utf-8\")\n",
    "    full_read += decoded_line\n",
    "all_cultist = full_read.split(\"\\n\")\n",
    "\n",
    "def recruit_cultist(name):\n",
    "    min_score = 0\n",
    "    max_score = 5\n",
    "    cultist = {\n",
    "        name: {\n",
    "            'stealth': random.randint(min_score, max_score), \n",
    "            'influence': random.randint(min_score, max_score), \n",
    "            'endurance': random.randint(min_score, max_score), \n",
    "            'lore': random.randint(min_score, max_score), \n",
    "            'economic': random.randint(min_score, max_score), \n",
    "            'strength': random.randint(min_score, max_score), \n",
    "            'insanity': random.randint(min_score, max_score)\n",
    "        }\n",
    "    }\n",
    "    return cultist\n",
    "\n",
    "def make_cultist(cultist_names):\n",
    "    cult = {}\n",
    "    for name in cultist_names:\n",
    "        cult.update(recruit_cultist(name))\n",
    "    return cult\n",
    "\n",
    "\n",
    "cult_roles = {\n",
    "'Priest': {'stealth': -1, 'influence': 3, 'endurance': 2, 'lore': 4, 'economic': 1, 'strength': 0, 'insanity': 5},\n",
    "'Enforcer': {'stealth': 1, 'influence': 3, 'endurance': 4, 'lore': 0, 'economic': -1, 'strength': 5, 'insanity': 2},\n",
    "'Assassin': {'stealth': 5, 'influence': -1, 'endurance': 4, 'lore': 1, 'economic': 0, 'strength': 2, 'insanity': 3},\n",
    "'Recruiter': {'stealth': 1, 'influence': 5, 'endurance': 0, 'lore': 3, 'economic': 2, 'strength': -1, 'insanity': 4},\n",
    "'Accountant': {'stealth': 2, 'influence': 1, 'endurance': 3, 'lore': 4, 'economic': 5, 'strength': 0, 'insanity': -1},\n",
    "'Advisor': {'stealth': 2, 'influence': 4, 'endurance': -1, 'lore': 5, 'economic': 3, 'strength': 0, 'insanity': 1}\n",
    "}\n",
    "\n",
    "cultists = make_cultist(all_cultist)\n",
    "\n",
    "def make_cultist_matrix(cultist_dict):\n",
    "    stats = ['stealth', 'influence', 'endurance', 'lore', 'economic', 'strength', 'insanity']\n",
    "    matrix = []\n",
    "    names = []\n",
    "    for name, stats_values in cultist_dict.items():\n",
    "        matrix.append(list(stats_values[key] for key in stats))\n",
    "        names.append(name)\n",
    "    return {'names': names, 'matrix': np.array(matrix)}\n",
    "\n",
    "\n",
    "def assign_cult_roles(cultists, cult_roles):\n",
    "    matrix_cultist_info = make_cultist_matrix(cultists)\n",
    "    cultists_names = matrix_cultist_info['names']\n",
    "    matrix_c = matrix_cultist_info['matrix']\n",
    "\n",
    "    matrix_roles_info = make_cultist_matrix(cult_roles)\n",
    "    role_names = matrix_roles_info['names']\n",
    "    matrix_r = matrix_roles_info['matrix'].T\n",
    "\n",
    "    result_values = matrix_c.dot(matrix_r)\n",
    "\n",
    "    result = {}\n",
    "    count = 0\n",
    "    for row in result_values:\n",
    "        name = cultists_names[count]\n",
    "        max_value = max(row)\n",
    "        max_index = list(row).index(max_value)\n",
    "        count += 1\n",
    "        result.update({name: role_names[max_index]})\n",
    "    return result\n",
    "\n",
    "cultists_roles = assign_cult_roles(cultists, cult_roles)\n",
    "\n",
    "\n",
    "\n"
   ]
  },
  {
   "cell_type": "code",
   "execution_count": 40,
   "metadata": {},
   "outputs": [
    {
     "output_type": "display_data",
     "data": {
      "text/plain": "     year  new_recruit  amount_spend(per_10000)  total_amount\n0    1605            9                     0.09           344\n1    1606           11                     0.11           355\n2    1607           11                     0.11           366\n3    1608           10                     0.10           376\n4    1609           12                     0.11           388\n..    ...          ...                      ...           ...\n411  2016          704                     7.05         64063\n412  2017          601                     6.14         64664\n413  2018          677                     7.06         65341\n414  2019          659                     6.73         66000\n415  2020          666                     6.66         66666\n\n[416 rows x 4 columns]",
      "text/html": "<div>\n<style scoped>\n    .dataframe tbody tr th:only-of-type {\n        vertical-align: middle;\n    }\n\n    .dataframe tbody tr th {\n        vertical-align: top;\n    }\n\n    .dataframe thead th {\n        text-align: right;\n    }\n</style>\n<table border=\"1\" class=\"dataframe\">\n  <thead>\n    <tr style=\"text-align: right;\">\n      <th></th>\n      <th>year</th>\n      <th>new_recruit</th>\n      <th>amount_spend(per_10000)</th>\n      <th>total_amount</th>\n    </tr>\n  </thead>\n  <tbody>\n    <tr>\n      <th>0</th>\n      <td>1605</td>\n      <td>9</td>\n      <td>0.09</td>\n      <td>344</td>\n    </tr>\n    <tr>\n      <th>1</th>\n      <td>1606</td>\n      <td>11</td>\n      <td>0.11</td>\n      <td>355</td>\n    </tr>\n    <tr>\n      <th>2</th>\n      <td>1607</td>\n      <td>11</td>\n      <td>0.11</td>\n      <td>366</td>\n    </tr>\n    <tr>\n      <th>3</th>\n      <td>1608</td>\n      <td>10</td>\n      <td>0.10</td>\n      <td>376</td>\n    </tr>\n    <tr>\n      <th>4</th>\n      <td>1609</td>\n      <td>12</td>\n      <td>0.11</td>\n      <td>388</td>\n    </tr>\n    <tr>\n      <th>...</th>\n      <td>...</td>\n      <td>...</td>\n      <td>...</td>\n      <td>...</td>\n    </tr>\n    <tr>\n      <th>411</th>\n      <td>2016</td>\n      <td>704</td>\n      <td>7.05</td>\n      <td>64063</td>\n    </tr>\n    <tr>\n      <th>412</th>\n      <td>2017</td>\n      <td>601</td>\n      <td>6.14</td>\n      <td>64664</td>\n    </tr>\n    <tr>\n      <th>413</th>\n      <td>2018</td>\n      <td>677</td>\n      <td>7.06</td>\n      <td>65341</td>\n    </tr>\n    <tr>\n      <th>414</th>\n      <td>2019</td>\n      <td>659</td>\n      <td>6.73</td>\n      <td>66000</td>\n    </tr>\n    <tr>\n      <th>415</th>\n      <td>2020</td>\n      <td>666</td>\n      <td>6.66</td>\n      <td>66666</td>\n    </tr>\n  </tbody>\n</table>\n<p>416 rows × 4 columns</p>\n</div>"
     },
     "metadata": {}
    },
    {
     "output_type": "display_data",
     "data": {
      "text/plain": "array([1329.87462551])"
     },
     "metadata": {}
    },
    {
     "output_type": "display_data",
     "data": {
      "text/plain": "array([536.71089221])"
     },
     "metadata": {}
    }
   ],
   "source": [
    "import pandas as pd\n",
    "import numpy as np\n",
    "from sklearn.linear_model import LinearRegression\n",
    "\n",
    "data = pd.read_csv(\"https://raw.githubusercontent.com/Micniks/Python-Week10-Group-3-Assignments/main/cult_statistics.csv\")\n",
    "\n",
    "display(data)\n",
    "#2.2\n",
    "#data.plot(kind='scatter', x = 2, y = 1)\n",
    "#2.3\n",
    "#data.plot(kind='scatter', x=3, y = 1)\n",
    "\n",
    "#2.4\n",
    "model = LinearRegression()\n",
    "#2.5\n",
    "x_data = np.array(data['amount_spend(per_10000)']).reshape(-1,1)\n",
    "y_data = data['new_recruit']\n",
    "value_of_2020 = data['amount_spend(per_10000)'][len(data)-1]\n",
    "\n",
    "model.fit(x_data, y_data)\n",
    "display(model.predict([[value_of_2020 * 2]]))\n",
    "\n",
    "\n",
    "#2.6\n",
    "x_data = np.array(data['total_amount']).reshape(-1,1)\n",
    "value_of_2020 = data['total_amount'][len(data)-1]\n",
    "\n",
    "model.fit(x_data, y_data)\n",
    "\n",
    "display(model.predict([[value_of_2020 * 0.8]]))\n",
    "\n",
    "#2.7\n",
    "\n"
   ]
  }
 ]
}