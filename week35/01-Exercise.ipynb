{
 "cells": [
  {
   "cell_type": "markdown",
   "metadata": {},
   "source": [
    "## Exercise"
   ]
  },
  {
   "cell_type": "markdown",
   "metadata": {},
   "source": [
    "1. Create 5 list comprehensions to solve the following 5 problems:\n",
    "  1. Iterate a list of names to return a list of the names starting with H\n",
    "  2. In one line create a list of the numbers 1-100 to the power of 3\n",
    "  3. Iterate a list of names to create a list of tuples where the tuples first value is the length of the name and the second is the name\n",
    "  4. Iterate over each character in a string and get only those that are nummeric\n",
    "  5. Using only a list comprehension wrapped in set() get all possible combination from throwing 2 dice (hint use 2 for loops in a single list comprehension)\n",
    "\n",
    "2. Create 2 dictionary comprehensions to solve the following:\n",
    "  1. Iterate a list of names and create a dictionary where key is the name and value is the length of the name\n",
    "  2. Iterate a list of numbers and create a dictionary with {key:value} being {number:squareroot_of_number}\n",
    "\n",
    "3. Extra assignment (This one goes beyond what is covered in the course notebooks. So only do it if you want an extra challenge).\n",
    "  - Progammatically using loops create a small program to produce a dictionary with all the 2 dice throw combinations as keys and their likelyhood in percent as values"
   ]
  },
  {
   "cell_type": "code",
   "execution_count": 10,
   "metadata": {},
   "outputs": [
    {
     "name": "stdout",
     "output_type": "stream",
     "text": [
      "['Holger', 'Harry']\n",
      "[1, 8, 27, 64, 125, 216, 343, 512, 729, 1000, 1331, 1728, 2197, 2744, 3375, 4096, 4913, 5832, 6859, 8000, 9261, 10648, 12167, 13824, 15625, 17576, 19683, 21952, 24389, 27000, 29791, 32768, 35937, 39304, 42875, 46656, 50653, 54872, 59319, 64000, 68921, 74088, 79507, 85184, 91125, 97336, 103823, 110592, 117649, 125000, 132651, 140608, 148877, 157464, 166375, 175616, 185193, 195112, 205379, 216000, 226981, 238328, 250047, 262144, 274625, 287496, 300763, 314432, 328509, 343000, 357911, 373248, 389017, 405224, 421875, 438976, 456533, 474552, 493039, 512000, 531441, 551368, 571787, 592704, 614125, 636056, 658503, 681472, 704969, 729000, 753571, 778688, 804357, 830584, 857375, 884736, 912673, 941192, 970299]\n",
      "[(6, 'Holger'), (5, 'Søren'), (8, 'Frederik'), (9, 'Alexander'), (5, 'Oscar'), (4, 'Mads'), (8, 'Benjamin'), (5, 'Harry')]\n",
      "[6, 5, 8]\n",
      "{(1, 3), (6, 6), (5, 6), (2, 1), (6, 2), (1, 6), (5, 1), (2, 5), (1, 2), (3, 3), (5, 5), (4, 4), (6, 3), (1, 5), (3, 6), (2, 2), (4, 1), (1, 1), (6, 4), (3, 2), (2, 6), (5, 4), (4, 5), (5, 2), (1, 4), (2, 3), (4, 2), (6, 5), (3, 5), (5, 3), (4, 6), (6, 1), (3, 1), (4, 3), (3, 4), (2, 4)}\n"
     ]
    }
   ],
   "source": [
    "# 1. Create 5 list comprehensions to solve the following 5 problems:\n",
    "\n",
    "# A. Iterate a list of names to return a list of the names starting with H\n",
    "names = [\"Holger\", \"Søren\", \"Frederik\", \"Alexander\", \"Oscar\", \"Mads\", \"Benjamin\", \"Harry\"]\n",
    "names_with_h = [name for name in names if name[0] == \"H\"]\n",
    "print(names_with_h)\n",
    "\n",
    "# B. In one line create a list of the numbers 1-100 to the power of 3\n",
    "numbers = [num**3 for num in range(1,100)]\n",
    "print(numbers)\n",
    "\n",
    "# C. Iterate a list of names to create a list of tuples where the tuples first value is \n",
    "# the length of the name and the second is the name\n",
    "list_of_tuples = [(len(name), name) for name in names]\n",
    "print(list_of_tuples)\n",
    "\n",
    "# D. Iterate over each character in a string and get only those that are nummeric\n",
    "string_with_num = \"[(6, Holger), (5, Søren), (8, Frederik)\"\n",
    "nummeric = [int(char) for char in string_with_num if char.isdigit()]\n",
    "print(nummeric)\n",
    "\n",
    "# E. Using only a list comprehension wrapped in set() get all possible combination \n",
    "# from throwing 2 dice (hint use 2 for loops in a single list comprehension)\n",
    "possible_combinations = set([(dice1, dice2) for dice1 in range(1,7) for dice2 in range(1,7)])\n",
    "print(possible_combinations)"
   ]
  },
  {
   "cell_type": "code",
   "execution_count": 15,
   "metadata": {
    "scrolled": true
   },
   "outputs": [
    {
     "name": "stdout",
     "output_type": "stream",
     "text": [
      "{'Holger': 6, 'Søren': 5, 'Frederik': 8, 'Alexander': 9, 'Oscar': 5, 'Mads': 4, 'Benjamin': 8, 'Harry': 5}\n",
      "{10: 3.1622776601683795, 20: 4.47213595499958, 30: 5.477225575051661, 40: 6.324555320336759, 50: 7.0710678118654755, 60: 7.745966692414834, 70: 8.366600265340756, 80: 8.94427190999916, 90: 9.486832980505138, 100: 10.0, 110: 10.488088481701515, 120: 10.954451150103322, 130: 11.40175425099138, 140: 11.832159566199232, 150: 12.24744871391589, 160: 12.649110640673518, 170: 13.038404810405298, 180: 13.416407864998739, 190: 13.784048752090222, 200: 14.142135623730951, 210: 14.491376746189438, 220: 14.832396974191326, 230: 15.165750888103101, 240: 15.491933384829668, 250: 15.811388300841896, 260: 16.1245154965971, 270: 16.431676725154983, 280: 16.73320053068151, 290: 17.029386365926403}\n"
     ]
    }
   ],
   "source": [
    "# 2. Create 2 dictionary comprehensions to solve the following:\n",
    "\n",
    "# A. Iterate a list of names and create a dictionary where key is the name and value is the length of the name\n",
    "names = [\"Holger\", \"Søren\", \"Frederik\", \"Alexander\", \"Oscar\", \"Mads\", \"Benjamin\", \"Harry\"]\n",
    "dict_names = {name:len(name) for name in names}\n",
    "print(dict_names)\n",
    "\n",
    "# B. Iterate a list of numbers and create a dictionary with {key:value} being {number:squareroot_of_number}\n",
    "import math\n",
    "dict_numbers = {num:math.sqrt(num) for num in range(10,300,10)}\n",
    "print(dict_numbers)\n"
   ]
  }
 ],
 "metadata": {
  "kernelspec": {
   "display_name": "Python 3",
   "language": "python",
   "name": "python3"
  },
  "language_info": {
   "codemirror_mode": {
    "name": "ipython",
    "version": 3
   },
   "file_extension": ".py",
   "mimetype": "text/x-python",
   "name": "python",
   "nbconvert_exporter": "python",
   "pygments_lexer": "ipython3",
   "version": "3.7.6"
  }
 },
 "nbformat": 4,
 "nbformat_minor": 2
}
