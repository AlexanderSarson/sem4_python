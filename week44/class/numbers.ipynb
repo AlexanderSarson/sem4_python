{
 "metadata": {
  "language_info": {
   "codemirror_mode": {
    "name": "ipython",
    "version": 3
   },
   "file_extension": ".py",
   "mimetype": "text/x-python",
   "name": "python",
   "nbconvert_exporter": "python",
   "pygments_lexer": "ipython3",
   "version": 3
  },
  "orig_nbformat": 2
 },
 "nbformat": 4,
 "nbformat_minor": 2,
 "cells": [
  {
   "source": [
    "4 E R = true\n",
    "pi E Q = true\n",
    "2/3 E R = true\n",
    "squareroot 2 ne Q = true\n",
    "-5 e N = not true"
   ],
   "cell_type": "markdown",
   "metadata": {}
  },
  {
   "source": [
    "## Class exercise\n",
    "1. Traverse and print each node plus sequence number of the node in the traversal of the below graph\n",
    "2. Create a function that can take a name and show all employees that are in the  to that supervisor. E.g Helge has Charlie and Hanne, Charlie has Jannie and Else."
   ],
   "cell_type": "markdown",
   "metadata": {}
  }
 ]
}