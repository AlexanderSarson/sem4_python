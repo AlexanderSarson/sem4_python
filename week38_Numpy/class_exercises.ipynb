{
 "metadata": {
  "language_info": {
   "codemirror_mode": {
    "name": "ipython",
    "version": 3
   },
   "file_extension": ".py",
   "mimetype": "text/x-python",
   "name": "python",
   "nbconvert_exporter": "python",
   "pygments_lexer": "ipython3",
   "version": "3.7.6-final"
  },
  "orig_nbformat": 2,
  "kernelspec": {
   "name": "python_defaultSpec_1600070210171",
   "display_name": "Python 3.7.6 64-bit ('conda': virtualenv)"
  }
 },
 "nbformat": 4,
 "nbformat_minor": 2,
 "cells": [
  {
   "cell_type": "markdown",
   "metadata": {},
   "source": [
    "### Class exercise: table\n",
    "![](../../images/numpy_slice_ex.png)\n",
    "- on the above image find the 5 different slicings using only the array slicing notation"
   ]
  },
  {
   "cell_type": "code",
   "execution_count": 8,
   "metadata": {
    "tags": []
   },
   "outputs": [
    {
     "output_type": "stream",
     "name": "stdout",
     "text": "red: [11 12 13] \nblue: [14 24] \ngreen:\n [12 17 22] \ntegl: [[11 13]\n [16 18]\n [21 23]\n [26 28]] \nyellow: 10\n"
    }
   ],
   "source": [
    "import numpy as np\n",
    "a = np.arange(10, 30).reshape(4,5)\n",
    "red = a[0, 1:4]\n",
    "blue   = a[::2, 4]  \n",
    "green  = a[0:3, 2] \n",
    "tegl = a[:, 1::2] \n",
    "yellow = a[0, 0] \n",
    "print('red:',red,'\\nblue:',blue,'\\ngreen:\\n',green,'\\ntegl:',tegl, '\\nyellow:',yellow)\n"
   ]
  },
  {
   "cell_type": "markdown",
   "metadata": {},
   "source": [
    "### 3D\n",
    "reshape can be done with multiple dimensions. Here is an example with 3d  \n",
    "`a = np.arange(0, 27).reshape((3, 3, 3))`  \n",
    "![](../../images/cube.png)\n",
    "### Class exercise: cube\n",
    "1. Slice out [12 13 14] from the above cube using only one slice. e.g: a[:,:,:]\n",
    "2. Slice out [3 12 21].\n",
    "3. Slice out all y-values where x is 2 and z is 0.\n"
   ]
  },
  {
   "cell_type": "code",
   "execution_count": 10,
   "metadata": {
    "tags": []
   },
   "outputs": [
    {
     "output_type": "stream",
     "name": "stdout",
     "text": "[12 13 14]\n-----------------------\n[ 3 12 21]\n-----------------------\n[2 5 8]\n-----------------------\n[[[ 0  1  2]\n  [ 3  4  5]\n  [ 6  7  8]]\n\n [[ 9 10 11]\n  [12 13 14]\n  [15 16 17]]\n\n [[18 19 20]\n  [21 22 23]\n  [24 25 26]]]\n"
    }
   ],
   "source": [
    "a = np.arange(0, 27).reshape((3, 3, 3)) # = (z, y, x)\n",
    "ex1 = a[1,1,:]\n",
    "ex2 = a[:,1,0]\n",
    "ex3 = a[0,:,2]\n",
    "print(ex1)\n",
    "print(\"-----------------------\")\n",
    "print(ex2)\n",
    "print(\"-----------------------\")\n",
    "print(ex3)\n",
    "print(\"-----------------------\")\n",
    "print(a)"
   ]
  },
  {
   "cell_type": "markdown",
   "metadata": {},
   "source": [
    "### Class exercise: masking\n",
    "- For the dataset: `data = np.arange(1,101).reshape(10,10)`\n",
    "  - apply a mask that will return only the even numbers\n",
    "  - using `np.where()` return only numbers that ends with 6\n",
    "  - using the operators: `%` and `|` mask to only get numbers that are divisible by 3 and numbers begining with 8"
   ]
  },
  {
   "cell_type": "code",
   "execution_count": 92,
   "metadata": {
    "tags": []
   },
   "outputs": [
    {
     "output_type": "stream",
     "name": "stdout",
     "text": "[  2   4   6   8  10  12  14  16  18  20  22  24  26  28  30  32  34  36\n  38  40  42  44  46  48  50  52  54  56  58  60  62  64  66  68  70  72\n  74  76  78  80  82  84  86  88  90  92  94  96  98 100]\n-------------------------------\n[[ 0  0  0  0  0  6  0  0  0  0]\n [ 0  0  0  0  0 16  0  0  0  0]\n [ 0  0  0  0  0 26  0  0  0  0]\n [ 0  0  0  0  0 36  0  0  0  0]\n [ 0  0  0  0  0 46  0  0  0  0]\n [ 0  0  0  0  0 56  0  0  0  0]\n [ 0  0  0  0  0 66  0  0  0  0]\n [ 0  0  0  0  0 76  0  0  0  0]\n [ 0  0  0  0  0 86  0  0  0  0]\n [ 0  0  0  0  0 96  0  0  0  0]]\n-------------------------------\n[[ 0  0  3  0  0  6  0  8  9  0]\n [ 0 12  0  0 15  0  0 18  0  0]\n [21  0  0 24  0  0 27  0  0 30]\n [ 0  0 33  0  0 36  0  0 39  0]\n [ 0 42  0  0 45  0  0 48  0  0]\n [51  0  0 54  0  0 57  0  0 60]\n [ 0  0 63  0  0 66  0  0 69  0]\n [ 0 72  0  0 75  0  0 78  0 80]\n [81 82 83 84 85 86 87 88 89 90]\n [ 0  0 93  0  0 96  0  0 99  0]]\n-------------------------------\n"
    }
   ],
   "source": [
    "data = np.arange(1,101).reshape(10,10)\n",
    "a = data[data % 2 == 0]\n",
    "b = np.where(data % 10 == 6, data, 0)\n",
    "c = np.where((data >= 80) & (data < 90) | (data % 3 == 0) | (data == 8), data, 0)\n",
    "print(a)\n",
    "print(\"-------------------------------\")\n",
    "print(b)\n",
    "print(\"-------------------------------\")\n",
    "print(c)\n",
    "print(\"-------------------------------\")"
   ]
  }
 ]
}