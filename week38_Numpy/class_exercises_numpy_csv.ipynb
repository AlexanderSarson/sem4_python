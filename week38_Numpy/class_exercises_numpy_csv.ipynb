{
 "metadata": {
  "language_info": {
   "codemirror_mode": {
    "name": "ipython",
    "version": 3
   },
   "file_extension": ".py",
   "mimetype": "text/x-python",
   "name": "python",
   "nbconvert_exporter": "python",
   "pygments_lexer": "ipython3",
   "version": "3.7.6-final"
  },
  "orig_nbformat": 2,
  "kernelspec": {
   "name": "python_defaultSpec_1599666137151",
   "display_name": "Python 3.7.6 64-bit ('base': conda)"
  }
 },
 "nbformat": 4,
 "nbformat_minor": 2,
 "cells": [
  {
   "cell_type": "markdown",
   "metadata": {},
   "source": [
    "## Exercise numpy and csv\n",
    "\n",
    "1. load the csv file: befkbhalderstatkode.csv into a numpy ndarray\n",
    "2. How many german children were 0 years old in 2015?\n",
    "3. create a function that can take any combination of the 4 parameters:AAR,BYDEL,ALDER,STATKODE and return population data\n",
    "4. create a new function like previous so that it can sum values for all ages if age is not provided to the function\n",
    "5. further add functionality to sum values if citizenship or area was not provided to function.\n",
    "6. create a new function that can also give average values for each year if year whas not provided.\n",
    "7. create a function, that given year and nationality can return which area had the most of these nationals by that year. Test it by finding out which area had the most Moroccan people in both 1992 and 2015\n",
    "8. Find the Area(s) where fewest foreingers lived in Copenhagen in 1992 and 2015 respectively\n",
    "9. Find out what age most French people have in 2015"
   ]
  },
  {
   "cell_type": "code",
   "execution_count": 2,
   "metadata": {},
   "outputs": [],
   "source": [
    "# 1.\n",
    "import numpy as np\n",
    "filename = '../../data/befkbhalderstatkode.csv'\n",
    "bef_stats_df = np.genfromtxt(filename, delimiter=',', dtype=np.uint, skip_header=1)\n",
    "dd = bef_stats_df\n",
    "\n",
    "\n"
   ]
  },
  {
   "cell_type": "code",
   "execution_count": 3,
   "metadata": {
    "tags": []
   },
   "outputs": [
    {
     "output_type": "stream",
     "name": "stdout",
     "text": "35\n"
    }
   ],
   "source": [
    "# 2.\n",
    "german_children_year_0_mask = (dd[:,0] == 2015) & (dd[:, 2] == 0) & (dd[:,3] == 5180)\n",
    "german_children_year_0 = dd[german_children_year_0_mask]\n",
    "sum_of_german_children_year_0 = german_children_year_0[:,4].sum()\n",
    "print(sum_of_german_children_year_0)"
   ]
  },
  {
   "cell_type": "code",
   "execution_count": 5,
   "metadata": {
    "tags": []
   },
   "outputs": [
    {
     "output_type": "stream",
     "name": "stdout",
     "text": "344\n"
    }
   ],
   "source": [
    "# 3. \n",
    "def get_population_data(year, area, nationality, age):\n",
    "    population_mask = (dd[:, 0] == year) & (dd[:,1] == area) & (dd[:, 2] == age) & (dd[:, 3] == nationality)\n",
    "    population = dd[population_mask]\n",
    "    sum_of_population = population[:, 4].sum()\n",
    "    return sum_of_population\n",
    "year = 2014\n",
    "area = 1\n",
    "nationality = 5100\n",
    "age = 14\n",
    "print(get_population_data(year, area, nationality, age))"
   ]
  },
  {
   "cell_type": "code",
   "execution_count": 6,
   "metadata": {
    "tags": []
   },
   "outputs": [
    {
     "output_type": "stream",
     "name": "stdout",
     "text": "43998\n"
    }
   ],
   "source": [
    "# 4. \n",
    "def get_population_data(year, area, nationality, age = -1):\n",
    "    population_mask = (dd[:, 0] == year) & (dd[:,1] == area) & (dd[:, 3] == nationality)\n",
    "    if age != -1:\n",
    "        population_mask = population_mask & (dd[:, 2] == age)\n",
    "    population = dd[population_mask]\n",
    "    sum_of_population = population[:, 4].sum()\n",
    "    return sum_of_population\n",
    "year = 2014\n",
    "area = 1\n",
    "nationality = 5100\n",
    "age = 26\n",
    "print(get_population_data(year, area, nationality))"
   ]
  },
  {
   "cell_type": "code",
   "execution_count": 7,
   "metadata": {
    "tags": []
   },
   "outputs": [
    {
     "output_type": "stream",
     "name": "stdout",
     "text": "570172\n"
    }
   ],
   "source": [
    "# 5. further add functionality to sum values if citizenship or area was not provided to function.\n",
    "def get_population_data(year, area = -1, nationality = -1, age = -1):\n",
    "    population_mask = (dd[:, 0] == year)\n",
    "    if area != -1:\n",
    "        population_mask = population_mask & (dd[:,1] == area)\n",
    "    if nationality != -1:\n",
    "        population_mask = population_mask & (dd[:, 3] == nationality)\n",
    "    if age != -1:\n",
    "         population_mask = population_mask & (dd[:, 2] == age)\n",
    "    population = dd[population_mask]\n",
    "    sum_of_population = population[:, 4].sum()\n",
    "    return sum_of_population\n",
    "year = 2014\n",
    "area = 1\n",
    "nationality = 5100\n",
    "age = 26\n",
    "print(get_population_data(year))"
   ]
  },
  {
   "cell_type": "code",
   "execution_count": null,
   "metadata": {},
   "outputs": [],
   "source": [
    "# 6. create a new function that can also give average values for each year if year whas not provided.\n",
    "# ??????????????????????"
   ]
  },
  {
   "cell_type": "code",
   "execution_count": 71,
   "metadata": {
    "tags": []
   },
   "outputs": [
    {
     "output_type": "stream",
     "name": "stdout",
     "text": "area:  4\n"
    }
   ],
   "source": [
    "# 7. create a function, that given year and nationality can return which area had the most of these nationals by that year. Test it by finding out which area had the most Moroccan people in both 1992 and 2015\n",
    "def get_most_nationals_from_which_area_by_that_year(year, nationality):\n",
    "    population_mask = (dd[:, 0] == year) & (dd[:, 3] == nationality)\n",
    "    population = dd[population_mask]\n",
    "    most_populated_area = 0\n",
    "    sum_of_people = 0\n",
    "    unique_areas = np.unique(population[:, 1])\n",
    "    for area in unique_areas:\n",
    "        people_in_area = population[population[:,1] == area]\n",
    "        sum_of_people_in_area = people_in_area[:, 4].sum()\n",
    "        #print(sum_of_people_in_area)\n",
    "        if sum_of_people_in_area > sum_of_people:\n",
    "            sum_of_people = sum_of_people_in_area\n",
    "            most_populated_area = area\n",
    "    return most_populated_area\n",
    "year = 1992\n",
    "nationality = 5244 # Marokko\n",
    "print(\"area: \", get_most_nationals_from_which_area_by_that_year(year, nationality))"
   ]
  },
  {
   "cell_type": "code",
   "execution_count": 69,
   "metadata": {
    "tags": []
   },
   "outputs": [
    {
     "output_type": "stream",
     "name": "stdout",
     "text": "2888\n3504\n9041\n6635\n2521\n1281\n2096\n2951\n3437\n2805\n638\narea:  99\n"
    }
   ],
   "source": [
    "# 8. Find the Area(s) where fewest foreingers lived in Copenhagen in 1992 and 2015 respectively\n",
    "def get_fewest_foreigners_by_area(year):\n",
    "    population_mask = (dd[:, 0] == year) & (dd[:, 3] != 5100)\n",
    "    population = dd[population_mask]\n",
    "    least_populated_area = 0\n",
    "    sum_of_people = 9999999\n",
    "    unique_areas = np.unique(population[:, 1])\n",
    "    for area in unique_areas:\n",
    "        people_in_area = population[population[:,1] == area]\n",
    "        sum_of_people_in_area = people_in_area[:, 4].sum()\n",
    "        #print(sum_of_people_in_area)\n",
    "        if sum_of_people_in_area < sum_of_people:\n",
    "            sum_of_people = sum_of_people_in_area\n",
    "            least_populated_area = area\n",
    "    return least_populated_area\n",
    "year = 1992\n",
    "print(\"area: \", get_fewest_foreigners_by_area(year))"
   ]
  },
  {
   "cell_type": "code",
   "execution_count": 73,
   "metadata": {
    "tags": []
   },
   "outputs": [
    {
     "output_type": "stream",
     "name": "stdout",
     "text": "age:  0 people:  10\nage:  1 people:  7\nage:  2 people:  4\nage:  3 people:  13\nage:  4 people:  6\nage:  5 people:  6\nage:  6 people:  5\nage:  7 people:  12\nage:  8 people:  7\nage:  9 people:  3\nage:  10 people:  5\nage:  11 people:  7\nage:  12 people:  3\nage:  13 people:  4\nage:  14 people:  2\nage:  15 people:  3\nage:  16 people:  3\nage:  17 people:  4\nage:  18 people:  5\nage:  19 people:  5\nage:  20 people:  10\nage:  21 people:  14\nage:  22 people:  20\nage:  23 people:  26\nage:  24 people:  36\nage:  25 people:  33\nage:  26 people:  23\nage:  27 people:  40\nage:  28 people:  34\nage:  29 people:  28\nage:  30 people:  22\nage:  31 people:  22\nage:  32 people:  25\nage:  33 people:  28\nage:  34 people:  27\nage:  35 people:  17\nage:  36 people:  22\nage:  37 people:  18\nage:  38 people:  25\nage:  39 people:  19\nage:  40 people:  14\nage:  41 people:  17\nage:  42 people:  14\nage:  43 people:  16\nage:  44 people:  15\nage:  45 people:  9\nage:  46 people:  6\nage:  47 people:  5\nage:  48 people:  9\nage:  49 people:  5\nage:  50 people:  9\nage:  51 people:  5\nage:  52 people:  4\nage:  53 people:  5\nage:  54 people:  1\nage:  55 people:  4\nage:  56 people:  5\nage:  57 people:  2\nage:  58 people:  2\nage:  59 people:  2\nage:  60 people:  1\nage:  61 people:  1\nage:  62 people:  1\nage:  63 people:  1\nage:  64 people:  2\nage:  65 people:  2\nage:  66 people:  3\nage:  70 people:  2\nage:  77 people:  1\nage:  78 people:  1\nage:  79 people:  1\nage:  83 people:  1\nFrench age:  27\n"
    }
   ],
   "source": [
    "# 9. Find out what age most French people have in 2015\n",
    "def get_french_people_most_representive_age():\n",
    "    population_mask = (dd[:, 0] == year) & (dd[:, 3] == 5130)\n",
    "    population = dd[population_mask]\n",
    "    unique_age = np.unique(population[:, 2])\n",
    "    count_age = 0\n",
    "    current_age = 0\n",
    "    for age in unique_age:\n",
    "        people_with_that_age = population[population[:,2] == age]\n",
    "        sum_of_people_in_with_that_age = people_with_that_age[:, 4].sum()\n",
    "        #print(\"age: \", age, \"people: \", sum_of_people_in_with_that_age)\n",
    "        if sum_of_people_in_with_that_age > count_age:\n",
    "            count_age = sum_of_people_in_with_that_age\n",
    "            current_age = age\n",
    "    return current_age\n",
    "print(\"French age: \", get_french_people_most_representive_age())"
   ]
  }
 ]
}