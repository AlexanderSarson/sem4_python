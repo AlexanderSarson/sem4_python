{
 "metadata": {
  "language_info": {
   "codemirror_mode": {
    "name": "ipython",
    "version": 3
   },
   "file_extension": ".py",
   "mimetype": "text/x-python",
   "name": "python",
   "nbconvert_exporter": "python",
   "pygments_lexer": "ipython3",
   "version": "3.7.6-final"
  },
  "orig_nbformat": 2,
  "kernelspec": {
   "name": "python3",
   "display_name": "Python 3"
  }
 },
 "nbformat": 4,
 "nbformat_minor": 2,
 "cells": [
  {
   "cell_type": "code",
   "execution_count": 14,
   "metadata": {},
   "outputs": [
    {
     "output_type": "display_data",
     "data": {
      "text/plain": "array(['I. setosa', 'I. versicolor', 'I. virginica'], dtype=object)"
     },
     "metadata": {}
    }
   ],
   "source": [
    "from sklearn.cluster import MeanShift, estimate_bandwidth\n",
    "import pandas as pd\n",
    "import numpy as np\n",
    "# The bandwidth is the distance/size scale of the kernel function, i.e. \n",
    "# sklearn.cluster module offers an estimate_bandwith() function based on a nearest-neighbor analysis.\n",
    "# quantile should be between [0, 1] 0.5 means that the median of all pairwise distances is used\n",
    "\n",
    "def mean_shift(data, n_samples=1000):\n",
    "    bandwidth = estimate_bandwidth(data, quantile=0.2, \n",
    "                                   n_samples=n_samples)\n",
    "\n",
    "    ms = MeanShift(bandwidth=bandwidth, bin_seeding=True)\n",
    "    ms.fit(data)\n",
    "    labels = ms.labels_\n",
    "    cluster_centers = ms.cluster_centers_\n",
    "\n",
    "    labels_unique = np.unique(labels)\n",
    "    n_clusters = len(labels_unique)\n",
    "\n",
    "    print('Number of estimated clusters : {}'.format(n_clusters))\n",
    "    \n",
    "    return labels, cluster_centers, n_clusters\n",
    "\n",
    "\n",
    "\n",
    "iris_data = pd.read_csv('iris_data.csv')\n",
    "\n",
    "\n",
    "unique_labels = iris_data['Species'].unique()\n",
    "display(unique_labels)\n",
    "# vælg Sepal eller Petal(Petal er nok bedre) til x, y\n",
    "\n",
    "#iris_data.plot(kind='scatter', x='Petal length', y='Petal with')\n"
   ]
  }
 ]
}