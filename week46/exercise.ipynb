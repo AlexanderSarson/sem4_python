{
 "metadata": {
  "language_info": {
   "codemirror_mode": {
    "name": "ipython",
    "version": 3
   },
   "file_extension": ".py",
   "mimetype": "text/x-python",
   "name": "python",
   "nbconvert_exporter": "python",
   "pygments_lexer": "ipython3",
   "version": "3.7.6-final"
  },
  "orig_nbformat": 2,
  "kernelspec": {
   "name": "python3",
   "display_name": "Python 3"
  }
 },
 "nbformat": 4,
 "nbformat_minor": 2,
 "cells": [
  {
   "source": [
    "## Assignment 1: Make a Cultist Model\n",
    "1. import the data from the dataset, and store it in a pandas variable ***cult***\n",
    "2. Divide the data into two datasets, ***cultists*** and ***roles***. Make the X dataset for the stats(*features*) of the cultists, and the Y dataset for the position(*targets*) for the dataset.\n",
    "3. Refactor the dataset ***cultists***, by removing the irrelevent features from in the dataset, so it only contains charactistic statistics\n",
    "```python\n",
    "['stealth', 'Influence', 'Endurance', 'Lore', 'Economic', 'Strength', 'Insanity']\n",
    "```\n",
    "4. Refactor the dataset ***roles*** so each value become machine friendly numbers, instead of strings.\n",
    "5. Use LinearRegression to make a model object.\n",
    "6. Use train_test_split from model_selection, to make training and testing dataset from ***cultists*** and ***roles***\n",
    "   1. Try adjusting the test_size variable later, to see what gives the better scores.\n",
    "7. Feed the model with the training datasets, and score the model on the training dataset (*model.score*)\n",
    "8. Score the model on the testing datasets, and compare to the testing scores."
   ],
   "cell_type": "markdown",
   "metadata": {}
  },
  {
   "cell_type": "code",
   "execution_count": 102,
   "metadata": {},
   "outputs": [
    {
     "output_type": "display_data",
     "data": {
      "text/plain": "0.48836495928861123"
     },
     "metadata": {}
    },
    {
     "output_type": "display_data",
     "data": {
      "text/plain": "0.510033833738618"
     },
     "metadata": {}
    },
    {
     "output_type": "display_data",
     "data": {
      "text/plain": "array([[0.62673441],\n       [3.30464984],\n       [2.92289943],\n       ...,\n       [2.11680296],\n       [0.29082271],\n       [3.82843528]])"
     },
     "metadata": {}
    }
   ],
   "source": [
    "import pandas as pd\n",
    "import numpy as np\n",
    "import sklearn.linear_model\n",
    "from sklearn.model_selection import train_test_split\n",
    "\n",
    "#1.1\n",
    "data = pd.read_csv('https://raw.githubusercontent.com/Micniks/Python-Week11-Group-3-Assignments/main/cultists.csv')\n",
    "\n",
    "#1.2, 1.3\n",
    "xs = data[['Stealth', 'Influence', 'Endurance', 'Lore', 'Economic', 'Strength', 'Insanity']]\n",
    "ys = data[['Position']]\n",
    "\n",
    "\n",
    "label_mapping = {\n",
    "    'Priest':0,\n",
    "    'Enforcer': 1,\n",
    "    'Assassin': 2,\n",
    "    'Recruiter': 3,\n",
    "    'Accountant': 4,\n",
    "    'Advisor': 5\n",
    "}\n",
    "#1.4\n",
    "ys['Position'] = ys['Position'].map(label_mapping)\n",
    "\n",
    "#ys_reshape = np.array(ys['Position']).reshape(-1,1)\n",
    "\n",
    "#1.5\n",
    "model = sklearn.linear_model.LinearRegression()\n",
    "#1.6\n",
    "x_train, x_test, y_train, y_test = train_test_split(xs, ys, test_size=0.50)\n",
    "#1.7\n",
    "model.fit(x_train, y_train)\n",
    "\n",
    "#1.8\n",
    "display(model.score(x_train, y_train))\n",
    "display(model.score(x_test, y_test))\n",
    "\n",
    "targets = model.predict(x_train)\n",
    "display(targets)\n",
    "\n",
    "\n",
    "\n"
   ]
  },
  {
   "source": [
    "## Assignment 2: Classification of Cultists\n",
    "*Since the cultist data doesn't seem to have any linear progression, another model might give better result in sorting members...*\n",
    "\n",
    "1. Use DecisionTreeClassifier to make a new model object\n",
    "2. Use train_test_split from model_selection, to make training and testing dataset from ***cultists*** and ***roles***\n",
    "   1. Try adjusting the test_size variable later, to see what gives the better scores.\n",
    "3. Feed the model with the training datasets, and score the model on the training dataset (*accuracy _score from sklearn.metrics*)\n",
    "4. Score the model on the testing datasets, and compare to the testing scores.\n",
    "5. Compare the scores from using Classification and using Regression models.\n",
    "\n",
    "*We suspect the score difference is the result of the datasets structure not progressing in a linear fashion*"
   ],
   "cell_type": "markdown",
   "metadata": {}
  },
  {
   "cell_type": "code",
   "execution_count": 103,
   "metadata": {},
   "outputs": [
    {
     "output_type": "display_data",
     "data": {
      "text/plain": "1.0"
     },
     "metadata": {}
    },
    {
     "output_type": "display_data",
     "data": {
      "text/plain": "0.7255"
     },
     "metadata": {}
    }
   ],
   "source": [
    "from sklearn.tree import DecisionTreeClassifier\n",
    "#2.1\n",
    "model = DecisionTreeClassifier()\n",
    "#2.2 \n",
    "x_train, x_test, y_train, y_test = train_test_split(xs, ys, test_size=0.30)\n",
    "#2.3\n",
    "model.fit(x_train, y_train)\n",
    "\n",
    "#2.4\n",
    "display(model.score(x_train, y_train))\n",
    "display(model.score(x_test, y_test))\n",
    "\n",
    "#2.5\n",
    "#it is obvious that the dataset is not linear and therefore it is better to use classification\n",
    "\n"
   ]
  },
  {
   "source": [
    "## Assignment 3: Find Clusters of Cultists\n",
    "1. Use the orignal dataset again, and remove the charactistic statistics used earlier, as well as the name and position for each member.\n",
    "2. Remove all rows with missing data for any features\n",
    "3. Change the Living_Area feature into multiple numeric features, using One Hot Encoding\n",
    "4. Make a model/analyzer from sklearn.cluster, with the appropriate bandwidth for the data.\n",
    "5. Use the analyzer to process the data, grouping people into clusters.\n",
    "6. Make a dataset from the cluster-array, showing the avarage statistic values for features in each cluster\n",
    "7. Add a count feature to each cluster, showing how many members are in each cluster\n",
    "8. Look at the final data, and answer the following questions:\n",
    "   1. How many clusters are there\n",
    "   2. Which cluster has the highest amount of recruits\n",
    "   3. What seems to be the defining feature(s) for each cluster"
   ],
   "cell_type": "markdown",
   "metadata": {}
  },
  {
   "cell_type": "code",
   "execution_count": 116,
   "metadata": {},
   "outputs": [
    {
     "output_type": "display_data",
     "data": {
      "text/plain": "                     Age  Membership_in_years  Contribution_in_dollars  \\\ncluster_group                                                            \n0.0            37.927329             7.931056               409.625466   \n1.0            43.368941            15.510772              1291.470377   \n2.0            46.542805            18.577413              2047.735883   \n3.0            48.342975            20.814050              2614.900826   \n4.0            50.532688            23.348668              3194.929782   \n5.0            49.794872            24.166667              3763.641026   \n6.0            52.622150            25.807818              4305.517915   \n7.0            51.856522            27.295652              4835.486957   \n8.0            53.349673            29.398693              5446.395425   \n9.0            56.090323            32.341935              6822.909677   \n10.0           56.109005            31.943128              6188.876777   \n11.0           59.096774            35.653226              7315.612903   \n12.0           59.386555            34.596639              7825.529412   \n13.0           58.448000            36.400000              8447.432000   \n14.0           60.845361            38.329897              9169.391753   \n15.0           64.391892            41.540541             10292.297297   \n16.0           60.871429            40.185714              9749.285714   \n17.0           64.500000            43.189655             11357.775862   \n18.0           63.586957            41.456522             10768.891304   \n19.0           64.681818            44.159091             12076.000000   \n20.0           64.647059            44.735294             12681.941176   \n21.0           70.727273            48.909091             13181.772727   \n22.0           67.904762            48.428571             14133.857143   \n\n               Members_recruited  Type_of_living_area  Counts  \ncluster_group                                                  \n0.0                     7.703727             0.537267    1610  \n1.0                    16.771993             0.570916    1114  \n2.0                    18.267760             0.555556     549  \n3.0                    18.394628             0.636364     484  \n4.0                    25.847458             0.607748     413  \n5.0                    27.557692             0.512821     312  \n6.0                    28.465798             0.570033     307  \n7.0                    18.191304             0.526087     230  \n8.0                    31.323529             0.584967     306  \n9.0                    35.754839             0.625806     155  \n10.0                   38.625592             0.601896     211  \n11.0                   38.459677             0.524194     124  \n12.0                   29.915966             0.487395     119  \n13.0                   50.120000             0.576000     125  \n14.0                   42.010309             0.659794      97  \n15.0                   32.472973             0.675676      74  \n16.0                   52.000000             0.557143      70  \n17.0                   36.362069             0.534483      58  \n18.0                   51.695652             0.695652      46  \n19.0                   27.295455             0.568182      44  \n20.0                   41.794118             0.411765      34  \n21.0                   79.818182             0.545455      22  \n22.0                   21.857143             0.523810      21  ",
      "text/html": "<div>\n<style scoped>\n    .dataframe tbody tr th:only-of-type {\n        vertical-align: middle;\n    }\n\n    .dataframe tbody tr th {\n        vertical-align: top;\n    }\n\n    .dataframe thead th {\n        text-align: right;\n    }\n</style>\n<table border=\"1\" class=\"dataframe\">\n  <thead>\n    <tr style=\"text-align: right;\">\n      <th></th>\n      <th>Age</th>\n      <th>Membership_in_years</th>\n      <th>Contribution_in_dollars</th>\n      <th>Members_recruited</th>\n      <th>Type_of_living_area</th>\n      <th>Counts</th>\n    </tr>\n    <tr>\n      <th>cluster_group</th>\n      <th></th>\n      <th></th>\n      <th></th>\n      <th></th>\n      <th></th>\n      <th></th>\n    </tr>\n  </thead>\n  <tbody>\n    <tr>\n      <th>0.0</th>\n      <td>37.927329</td>\n      <td>7.931056</td>\n      <td>409.625466</td>\n      <td>7.703727</td>\n      <td>0.537267</td>\n      <td>1610</td>\n    </tr>\n    <tr>\n      <th>1.0</th>\n      <td>43.368941</td>\n      <td>15.510772</td>\n      <td>1291.470377</td>\n      <td>16.771993</td>\n      <td>0.570916</td>\n      <td>1114</td>\n    </tr>\n    <tr>\n      <th>2.0</th>\n      <td>46.542805</td>\n      <td>18.577413</td>\n      <td>2047.735883</td>\n      <td>18.267760</td>\n      <td>0.555556</td>\n      <td>549</td>\n    </tr>\n    <tr>\n      <th>3.0</th>\n      <td>48.342975</td>\n      <td>20.814050</td>\n      <td>2614.900826</td>\n      <td>18.394628</td>\n      <td>0.636364</td>\n      <td>484</td>\n    </tr>\n    <tr>\n      <th>4.0</th>\n      <td>50.532688</td>\n      <td>23.348668</td>\n      <td>3194.929782</td>\n      <td>25.847458</td>\n      <td>0.607748</td>\n      <td>413</td>\n    </tr>\n    <tr>\n      <th>5.0</th>\n      <td>49.794872</td>\n      <td>24.166667</td>\n      <td>3763.641026</td>\n      <td>27.557692</td>\n      <td>0.512821</td>\n      <td>312</td>\n    </tr>\n    <tr>\n      <th>6.0</th>\n      <td>52.622150</td>\n      <td>25.807818</td>\n      <td>4305.517915</td>\n      <td>28.465798</td>\n      <td>0.570033</td>\n      <td>307</td>\n    </tr>\n    <tr>\n      <th>7.0</th>\n      <td>51.856522</td>\n      <td>27.295652</td>\n      <td>4835.486957</td>\n      <td>18.191304</td>\n      <td>0.526087</td>\n      <td>230</td>\n    </tr>\n    <tr>\n      <th>8.0</th>\n      <td>53.349673</td>\n      <td>29.398693</td>\n      <td>5446.395425</td>\n      <td>31.323529</td>\n      <td>0.584967</td>\n      <td>306</td>\n    </tr>\n    <tr>\n      <th>9.0</th>\n      <td>56.090323</td>\n      <td>32.341935</td>\n      <td>6822.909677</td>\n      <td>35.754839</td>\n      <td>0.625806</td>\n      <td>155</td>\n    </tr>\n    <tr>\n      <th>10.0</th>\n      <td>56.109005</td>\n      <td>31.943128</td>\n      <td>6188.876777</td>\n      <td>38.625592</td>\n      <td>0.601896</td>\n      <td>211</td>\n    </tr>\n    <tr>\n      <th>11.0</th>\n      <td>59.096774</td>\n      <td>35.653226</td>\n      <td>7315.612903</td>\n      <td>38.459677</td>\n      <td>0.524194</td>\n      <td>124</td>\n    </tr>\n    <tr>\n      <th>12.0</th>\n      <td>59.386555</td>\n      <td>34.596639</td>\n      <td>7825.529412</td>\n      <td>29.915966</td>\n      <td>0.487395</td>\n      <td>119</td>\n    </tr>\n    <tr>\n      <th>13.0</th>\n      <td>58.448000</td>\n      <td>36.400000</td>\n      <td>8447.432000</td>\n      <td>50.120000</td>\n      <td>0.576000</td>\n      <td>125</td>\n    </tr>\n    <tr>\n      <th>14.0</th>\n      <td>60.845361</td>\n      <td>38.329897</td>\n      <td>9169.391753</td>\n      <td>42.010309</td>\n      <td>0.659794</td>\n      <td>97</td>\n    </tr>\n    <tr>\n      <th>15.0</th>\n      <td>64.391892</td>\n      <td>41.540541</td>\n      <td>10292.297297</td>\n      <td>32.472973</td>\n      <td>0.675676</td>\n      <td>74</td>\n    </tr>\n    <tr>\n      <th>16.0</th>\n      <td>60.871429</td>\n      <td>40.185714</td>\n      <td>9749.285714</td>\n      <td>52.000000</td>\n      <td>0.557143</td>\n      <td>70</td>\n    </tr>\n    <tr>\n      <th>17.0</th>\n      <td>64.500000</td>\n      <td>43.189655</td>\n      <td>11357.775862</td>\n      <td>36.362069</td>\n      <td>0.534483</td>\n      <td>58</td>\n    </tr>\n    <tr>\n      <th>18.0</th>\n      <td>63.586957</td>\n      <td>41.456522</td>\n      <td>10768.891304</td>\n      <td>51.695652</td>\n      <td>0.695652</td>\n      <td>46</td>\n    </tr>\n    <tr>\n      <th>19.0</th>\n      <td>64.681818</td>\n      <td>44.159091</td>\n      <td>12076.000000</td>\n      <td>27.295455</td>\n      <td>0.568182</td>\n      <td>44</td>\n    </tr>\n    <tr>\n      <th>20.0</th>\n      <td>64.647059</td>\n      <td>44.735294</td>\n      <td>12681.941176</td>\n      <td>41.794118</td>\n      <td>0.411765</td>\n      <td>34</td>\n    </tr>\n    <tr>\n      <th>21.0</th>\n      <td>70.727273</td>\n      <td>48.909091</td>\n      <td>13181.772727</td>\n      <td>79.818182</td>\n      <td>0.545455</td>\n      <td>22</td>\n    </tr>\n    <tr>\n      <th>22.0</th>\n      <td>67.904762</td>\n      <td>48.428571</td>\n      <td>14133.857143</td>\n      <td>21.857143</td>\n      <td>0.523810</td>\n      <td>21</td>\n    </tr>\n  </tbody>\n</table>\n</div>"
     },
     "metadata": {}
    }
   ],
   "source": [
    "from sklearn import preprocessing\n",
    "from sklearn.cluster import estimate_bandwidth\n",
    "from sklearn.cluster import MeanShift\n",
    "\n",
    "#3.1\n",
    "c_data = data.drop(['Cultist','Stealth', 'Influence', 'Endurance', 'Lore', 'Economic', 'Strength', 'Insanity', 'Position'], axis=1)\n",
    "\n",
    "#display(c_data)\n",
    "\n",
    "#3.2\n",
    "c_data.dropna(inplace=True)\n",
    "\n",
    "#3.3\n",
    "label_enc =preprocessing.LabelEncoder()\n",
    "c_data['Type_of_living_area'] = label_enc.fit_transform(c_data['Type_of_living_area'].astype(str))\n",
    "#display(c_data)\n",
    "\n",
    "#3.4\n",
    "#estimate_bandwidth(c_data)\n",
    "analyzer = MeanShift(bandwidth=300) \n",
    "#3.5\n",
    "analyzer.fit(c_data)\n",
    "\n",
    "#3.6\n",
    "labels = analyzer.labels_\n",
    "c_data['cluster_group'] = np.nan\n",
    "data_length=len(c_data)\n",
    "for i in range(data_length): # loop 714 rows\n",
    "    c_data.iloc[i,c_data.columns.get_loc('cluster_group')] = labels[i] #set the cluster label on each row\n",
    "\n",
    "\n",
    "#Grouping passengers by Cluster\n",
    "c_cluster_data = c_data.groupby(['cluster_group']).mean()\n",
    "#Count of passengers in each cluster\n",
    "c_cluster_data['Counts'] = pd.Series(c_data.groupby(['cluster_group']).size())\n",
    "c_cluster_data = c_cluster_data[c_cluster_data['Counts'] >= 20]\n",
    "display(c_cluster_data)\n",
    "\n",
    "\n",
    "\n"
   ]
  },
  {
   "cell_type": "code",
   "execution_count": null,
   "metadata": {},
   "outputs": [],
   "source": []
  }
 ]
}