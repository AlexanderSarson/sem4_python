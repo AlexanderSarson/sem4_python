{
 "metadata": {
  "language_info": {
   "codemirror_mode": {
    "name": "ipython",
    "version": 3
   },
   "file_extension": ".py",
   "mimetype": "text/x-python",
   "name": "python",
   "nbconvert_exporter": "python",
   "pygments_lexer": "ipython3",
   "version": "3.7.6-final"
  },
  "orig_nbformat": 2,
  "kernelspec": {
   "name": "python3",
   "display_name": "Python 3"
  }
 },
 "nbformat": 4,
 "nbformat_minor": 2,
 "cells": [
  {
   "cell_type": "code",
   "execution_count": 1,
   "metadata": {},
   "outputs": [
    {
     "output_type": "display_data",
     "data": {
      "text/plain": "0.9797935668049733"
     },
     "metadata": {}
    },
    {
     "output_type": "display_data",
     "data": {
      "text/plain": "0.9961578491656758"
     },
     "metadata": {}
    },
    {
     "output_type": "display_data",
     "data": {
      "text/plain": "array([[6486.23620569],\n       [9224.28352707],\n       [5611.89108751],\n       [7365.02930048],\n       [5775.51308456],\n       [7977.57922339],\n       [7360.89903648],\n       [7184.56853481]])"
     },
     "metadata": {}
    }
   ],
   "source": [
    "import pandas as pd\n",
    "import numpy as np\n",
    "from sklearn.model_selection import train_test_split\n",
    "import sklearn.linear_model\n",
    "\n",
    "science = pd.read_csv('science.csv', index_col=0)\n",
    "\n",
    "xs = science['US science spending']\n",
    "ys = science['Suicides']\n",
    "\n",
    "xs_reshape = np.array(xs).reshape(-1, 1)\n",
    "ys_reshape = np.array(ys).reshape(-1,1)\n",
    "\n",
    "x_train, x_test, y_train, y_test = train_test_split(xs_reshape, ys_reshape)\n",
    "\n",
    "\n",
    "model = sklearn.linear_model.LinearRegression()\n",
    "\n",
    "model.fit(x_train, y_train)\n",
    "\n",
    "targets = model.predict(x_train)\n",
    "\n",
    "display(model.score(x_train, y_train))\n",
    "display(model.score(x_test, y_test))\n",
    "display(targets)\n",
    "\n",
    "\n",
    "\n"
   ]
  },
  {
   "cell_type": "code",
   "execution_count": null,
   "metadata": {},
   "outputs": [],
   "source": []
  }
 ]
}